{
 "cells": [
  {
   "cell_type": "code",
   "execution_count": 2,
   "metadata": {},
   "outputs": [
    {
     "name": "stdout",
     "output_type": "stream",
     "text": [
      "Hello Python\n"
     ]
    }
   ],
   "source": [
    "# Q1) Write a Python program to print \"Hello Python\"?\n",
    "\n",
    "print(\"Hello Python\")"
   ]
  },
  {
   "cell_type": "code",
   "execution_count": 1,
   "metadata": {},
   "outputs": [
    {
     "name": "stdout",
     "output_type": "stream",
     "text": [
      "Enter X value: 20\n",
      "Enter Y value: 10\n",
      "30\n",
      "2.0\n"
     ]
    }
   ],
   "source": [
    "#Q2) Write a Python program to do arithmetical operations addition and division?\n",
    "\n",
    "x = int(input(\"Enter X value: \"))\n",
    "y = int(input(\"Enter Y value: \"))\n",
    "\n",
    "# Addition\n",
    "Sum = x+y\n",
    "# Division\n",
    "Div = x/y\n",
    "\n",
    "print(Sum)\n",
    "print(Div)"
   ]
  },
  {
   "cell_type": "code",
   "execution_count": 3,
   "metadata": {},
   "outputs": [
    {
     "name": "stdout",
     "output_type": "stream",
     "text": [
      "Enter base value: 10\n",
      "Enter height value: 20\n",
      "100.0\n"
     ]
    }
   ],
   "source": [
    "#Q3) Write a Python program to find the area of a triangle?\n",
    "\n",
    "b = int(input(\"Enter base value: \"))\n",
    "h = int(input(\"Enter height value: \"))\n",
    "\n",
    "# Area of triangle is A = b * h / 2\n",
    "\n",
    "Area = (b*h)/2\n",
    "\n",
    "print(Area)"
   ]
  },
  {
   "cell_type": "code",
   "execution_count": 5,
   "metadata": {},
   "outputs": [
    {
     "name": "stdout",
     "output_type": "stream",
     "text": [
      "Enter 1st variable: 2\n",
      "Enter 2nd variable: 3\n",
      "3\n",
      "2\n"
     ]
    }
   ],
   "source": [
    "#Q4) Write a Python program to swap two variables?\n",
    "\n",
    "a = int(input(\"Enter 1st variable: \"))\n",
    "b = int(input(\"Enter 2nd variable: \"))\n",
    "\n",
    "# Swapping variable\n",
    "\n",
    "temp=a\n",
    "a=b\n",
    "b=temp\n",
    "\n",
    "print(a)\n",
    "print(b)"
   ]
  },
  {
   "cell_type": "code",
   "execution_count": 17,
   "metadata": {},
   "outputs": [
    {
     "name": "stdout",
     "output_type": "stream",
     "text": [
      "0.37677877653697833\n"
     ]
    }
   ],
   "source": [
    "#Q5) Write a Python program to generate a random number?\n",
    "\n",
    "import random \n",
    "n = random.random() \n",
    "print(n)\n"
   ]
  },
  {
   "cell_type": "code",
   "execution_count": 21,
   "metadata": {},
   "outputs": [
    {
     "name": "stdout",
     "output_type": "stream",
     "text": [
      "283\n"
     ]
    }
   ],
   "source": [
    "#Q5) Write a Python program to generate a random number?\n",
    "\n",
    "import random \n",
    "n = random.randint(0,1000) \n",
    "print(n)\n"
   ]
  },
  {
   "cell_type": "code",
   "execution_count": null,
   "metadata": {},
   "outputs": [],
   "source": []
  },
  {
   "cell_type": "code",
   "execution_count": null,
   "metadata": {},
   "outputs": [],
   "source": []
  }
 ],
 "metadata": {
  "kernelspec": {
   "display_name": "Python 3",
   "language": "python",
   "name": "python3"
  },
  "language_info": {
   "codemirror_mode": {
    "name": "ipython",
    "version": 3
   },
   "file_extension": ".py",
   "mimetype": "text/x-python",
   "name": "python",
   "nbconvert_exporter": "python",
   "pygments_lexer": "ipython3",
   "version": "3.8.3"
  }
 },
 "nbformat": 4,
 "nbformat_minor": 4
}
