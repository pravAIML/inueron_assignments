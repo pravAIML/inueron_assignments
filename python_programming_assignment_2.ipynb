{
 "cells": [
  {
   "cell_type": "code",
   "execution_count": 4,
   "metadata": {},
   "outputs": [
    {
     "name": "stdout",
     "output_type": "stream",
     "text": [
      "Enter the value of Kilometers :100\n",
      "100 kilometers = 62.137100000000004 miles\n"
     ]
    }
   ],
   "source": [
    "# Q1) Write a Python program to convert kilometers to miles?\n",
    "\n",
    "K =  int(input(\"Enter the value of Kilometers :\"))\n",
    "Miles = K*0.621371\n",
    "print(\"{} kilometers = {} miles\" .format(K,Miles))"
   ]
  },
  {
   "cell_type": "code",
   "execution_count": 10,
   "metadata": {},
   "outputs": [
    {
     "name": "stdout",
     "output_type": "stream",
     "text": [
      "Enter degree celcius: 40\n",
      "40 C is equal to 104.0 F \n"
     ]
    }
   ],
   "source": [
    "#Q2) Write a Python program to convert Celsius to Fahrenheit?\n",
    "\n",
    "C = int(input(\"Enter degree celcius: \"))\n",
    "Farenheit = (C * 1.8) + 32\n",
    "print(\"{} C is equal to {} F \" . format(C,Farenheit))"
   ]
  },
  {
   "cell_type": "code",
   "execution_count": 14,
   "metadata": {},
   "outputs": [
    {
     "name": "stdout",
     "output_type": "stream",
     "text": [
      "We are in this current month and year: \n",
      " \n",
      "      April 2021\n",
      "Mo Tu We Th Fr Sa Su\n",
      "          1  2  3  4\n",
      " 5  6  7  8  9 10 11\n",
      "12 13 14 15 16 17 18\n",
      "19 20 21 22 23 24 25\n",
      "26 27 28 29 30\n",
      "\n",
      " Take a look at whole year calendar: \n",
      " \n",
      "                                   2021\n",
      "\n",
      "      January                   February                   March\n",
      "Mo Tu We Th Fr Sa Su      Mo Tu We Th Fr Sa Su      Mo Tu We Th Fr Sa Su\n",
      "             1  2  3       1  2  3  4  5  6  7       1  2  3  4  5  6  7\n",
      " 4  5  6  7  8  9 10       8  9 10 11 12 13 14       8  9 10 11 12 13 14\n",
      "11 12 13 14 15 16 17      15 16 17 18 19 20 21      15 16 17 18 19 20 21\n",
      "18 19 20 21 22 23 24      22 23 24 25 26 27 28      22 23 24 25 26 27 28\n",
      "25 26 27 28 29 30 31                                29 30 31\n",
      "\n",
      "       April                      May                       June\n",
      "Mo Tu We Th Fr Sa Su      Mo Tu We Th Fr Sa Su      Mo Tu We Th Fr Sa Su\n",
      "          1  2  3  4                      1  2          1  2  3  4  5  6\n",
      " 5  6  7  8  9 10 11       3  4  5  6  7  8  9       7  8  9 10 11 12 13\n",
      "12 13 14 15 16 17 18      10 11 12 13 14 15 16      14 15 16 17 18 19 20\n",
      "19 20 21 22 23 24 25      17 18 19 20 21 22 23      21 22 23 24 25 26 27\n",
      "26 27 28 29 30            24 25 26 27 28 29 30      28 29 30\n",
      "                          31\n",
      "\n",
      "        July                     August                  September\n",
      "Mo Tu We Th Fr Sa Su      Mo Tu We Th Fr Sa Su      Mo Tu We Th Fr Sa Su\n",
      "          1  2  3  4                         1             1  2  3  4  5\n",
      " 5  6  7  8  9 10 11       2  3  4  5  6  7  8       6  7  8  9 10 11 12\n",
      "12 13 14 15 16 17 18       9 10 11 12 13 14 15      13 14 15 16 17 18 19\n",
      "19 20 21 22 23 24 25      16 17 18 19 20 21 22      20 21 22 23 24 25 26\n",
      "26 27 28 29 30 31         23 24 25 26 27 28 29      27 28 29 30\n",
      "                          30 31\n",
      "\n",
      "      October                   November                  December\n",
      "Mo Tu We Th Fr Sa Su      Mo Tu We Th Fr Sa Su      Mo Tu We Th Fr Sa Su\n",
      "             1  2  3       1  2  3  4  5  6  7             1  2  3  4  5\n",
      " 4  5  6  7  8  9 10       8  9 10 11 12 13 14       6  7  8  9 10 11 12\n",
      "11 12 13 14 15 16 17      15 16 17 18 19 20 21      13 14 15 16 17 18 19\n",
      "18 19 20 21 22 23 24      22 23 24 25 26 27 28      20 21 22 23 24 25 26\n",
      "25 26 27 28 29 30 31      29 30                     27 28 29 30 31\n",
      "\n"
     ]
    }
   ],
   "source": [
    "#Q3) Write a Python program to display calendar?\n",
    "\n",
    "import calendar\n",
    "\n",
    "month = 4\n",
    "year  = 2021\n",
    "\n",
    "print(\"We are in this current month and year: \\n \\n\", calendar.month(year,month))\n",
    "\n",
    "print(\" Take a look at whole year calendar: \\n \\n\", calendar.calendar(year))"
   ]
  },
  {
   "cell_type": "code",
   "execution_count": 8,
   "metadata": {},
   "outputs": [
    {
     "name": "stdout",
     "output_type": "stream",
     "text": [
      "enter the value of a : 2\n",
      "enter the value of b : 3\n",
      "enter the value of c : 4\n",
      "The quadratic equation solutions are (-0.75+1.1989578808281798j) and (-0.75-1.1989578808281798j)\n"
     ]
    }
   ],
   "source": [
    "#Q4) Write a Python program to solve quadratic equation?\n",
    "# ** -> ^(power)\n",
    "# ax**2 + bx + c = 0 ; a != 0, a,b & c values are known and x is unknown.\n",
    "# x = (-b) +- sqrt(b**2 - 4*a*c) / 2*a\n",
    "# x = (-b) +- (b**2 - 4*a*c)**0.5 / 2*a\n",
    "\n",
    "import cmath\n",
    "\n",
    "a = int(input('enter the value of a : '))\n",
    "b = int(input('enter the value of b : '))\n",
    "c = int(input('enter the value of c : '))\n",
    "\n",
    "#x1 = ((-b) + (b**2 - 4*a*c)**0.5) / 2*a\n",
    "#x2 = ((-b) - (b**2 - 4*a*c)**0.5) / 2*a\n",
    "\n",
    "X1 = ((-b) + cmath.sqrt(b**2 - 4*a*c)) / (2*a)\n",
    "X2 = ((-b) - cmath.sqrt(b**2 - 4*a*c)) / (2*a)\n",
    "\n",
    "#print(x1, x2)\n",
    "print(\"The quadratic equation solutions are {} and {}\" .format(X1, X2))"
   ]
  },
  {
   "cell_type": "code",
   "execution_count": 12,
   "metadata": {},
   "outputs": [
    {
     "name": "stdout",
     "output_type": "stream",
     "text": [
      "enter value of a : 2\n",
      "enter value of b : 3\n",
      "3 2\n"
     ]
    }
   ],
   "source": [
    "#Q5) Write a Python program to swap two variables without temp variable?\n",
    "\n",
    "a = int(input('enter value of a : '))\n",
    "b = int(input('enter value of b : '))\n",
    "\n",
    "#temp = a\n",
    "#b =a \n",
    "#b = temp\n",
    "a = a + b\n",
    "b = a - b\n",
    "a = a - b\n",
    "\n",
    "print (a ,b )"
   ]
  },
  {
   "cell_type": "code",
   "execution_count": 15,
   "metadata": {},
   "outputs": [
    {
     "name": "stdout",
     "output_type": "stream",
     "text": [
      "enter value of a : 1\n",
      "enter value of b : 2\n",
      "enter value of c : 3\n",
      "3 1 2\n"
     ]
    }
   ],
   "source": [
    "a = int(input('enter value of a : '))\n",
    "b = int(input('enter value of b : '))\n",
    "c = int(input('enter value of c : '))\n",
    "\n",
    "#temp = a\n",
    "#b =a \n",
    "#b = temp ; a = 1 ;b = 2; c= 3\n",
    "a = a + b + c  #6\n",
    "b = a - b - c  # 1\n",
    "c = a - b - c  #2\n",
    "a = a - b - c #3\n",
    "\n",
    "print (a ,b, c )"
   ]
  },
  {
   "cell_type": "code",
   "execution_count": null,
   "metadata": {},
   "outputs": [],
   "source": []
  }
 ],
 "metadata": {
  "kernelspec": {
   "display_name": "Python 3",
   "language": "python",
   "name": "python3"
  },
  "language_info": {
   "codemirror_mode": {
    "name": "ipython",
    "version": 3
   },
   "file_extension": ".py",
   "mimetype": "text/x-python",
   "name": "python",
   "nbconvert_exporter": "python",
   "pygments_lexer": "ipython3",
   "version": "3.8.3"
  }
 },
 "nbformat": 4,
 "nbformat_minor": 4
}
